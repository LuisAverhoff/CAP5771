{
 "cells": [
  {
   "cell_type": "code",
   "execution_count": 1,
   "metadata": {
    "collapsed": false
   },
   "outputs": [
    {
     "name": "stdout",
     "output_type": "stream",
     "text": [
      "Extracting MNIST_data/train-images-idx3-ubyte.gz\n",
      "Extracting MNIST_data/train-labels-idx1-ubyte.gz\n",
      "Extracting MNIST_data/t10k-images-idx3-ubyte.gz\n",
      "Extracting MNIST_data/t10k-labels-idx1-ubyte.gz\n"
     ]
    }
   ],
   "source": [
    "import tensorflow as tf\n",
    "from tensorflow.examples.tutorials.mnist import input_data\n",
    "\n",
    "mnist = input_data.read_data_sets(\"MNIST_data/\", one_hot=True)\n",
    "\n"
   ]
  },
  {
   "cell_type": "code",
   "execution_count": 2,
   "metadata": {
    "collapsed": false
   },
   "outputs": [
    {
     "name": "stdout",
     "output_type": "stream",
     "text": [
      "Epoch: 1 cost = 0.637\n",
      "Epoch: 2 cost = 0.238\n",
      "Epoch: 3 cost = 0.175\n",
      "Epoch: 4 cost = 0.143\n",
      "Epoch: 5 cost = 0.122\n",
      "Epoch: 6 cost = 0.103\n",
      "Epoch: 7 cost = 0.089\n",
      "Epoch: 8 cost = 0.077\n",
      "Epoch: 9 cost = 0.065\n",
      "Epoch: 10 cost = 0.056\n",
      "0.9743\n"
     ]
    }
   ],
   "source": [
    "learning_rate = 0.5\n",
    "epochs = 10\n",
    "batch_size = 100\n",
    "\n",
    "x = tf.placeholder(tf.float32, [None, 784], name=\"x\")\n",
    "y = tf.placeholder(tf.float32, [None, 10], name=\"labels\")\n",
    "\n",
    "x_image = tf.reshape(x, [-1, 28, 28, 1])\n",
    "tf.summary.image(\"input\", x_image, 10)\n",
    "\n",
    "with tf.name_scope(\"hidden_layer\"):\n",
    "    W1 = tf.Variable(tf.random_normal([784, 300], stddev=0.03), name=\"W1\")\n",
    "    b1 = tf.Variable(tf.random_normal([300]), name='b1')\n",
    "    accum = tf.add(tf.matmul(x, W1), b1)\n",
    "    hidden_out = tf.nn.relu(accum)\n",
    "\n",
    "with tf.name_scope(\"output_layer\"):\n",
    "    W2 = tf.Variable(tf.random_normal([300, 10], stddev=0.03), name=\"W2\")\n",
    "    b2 = tf.Variable(tf.random_normal([10]), name=\"b2\")\n",
    "    y_ = tf.nn.softmax(tf.add(tf.matmul(hidden_out, W2), b2), name=\"y_\")\n",
    "    \n",
    "with tf.name_scope('xent'):\n",
    "    y_clipped = tf.clip_by_value(y_, 1e-10, 0.9999999)\n",
    "    cross_entropy = -tf.reduce_mean(tf.reduce_sum(y * tf.log(y_clipped) + (1 - y) * tf.log(1 - y_clipped), axis=1))\n",
    "    tf.summary.scalar('xent', cross_entropy)\n",
    "\n",
    "with tf.name_scope(\"train\"):\n",
    "    optimiser = tf.train.GradientDescentOptimizer(learning_rate=learning_rate).minimize(cross_entropy)\n",
    "                                    \n",
    "with tf.name_scope(\"accuracy\"):\n",
    "    correct_prediction = tf.equal(tf.argmax(y, 1), tf.argmax(y_, 1))\n",
    "    accuracy = tf.reduce_mean(tf.cast(correct_prediction, tf.float32))\n",
    "    tf.summary.scalar('accuracy', accuracy)\n",
    "                                    \n",
    "# Initialize\n",
    "sess = tf.Session()\n",
    "init_op = tf.global_variables_initializer()\n",
    "sess.run(init_op)\n",
    "merged_summary = tf.summary.merge_all()\n",
    "writer = tf.summary.FileWriter('/tmp/3_layer_mnist/demo/1')\n",
    "writer.add_graph(sess.graph)\n",
    "\n",
    "total_batch = int(len(mnist.train.labels) / batch_size)\n",
    "\n",
    "for epoch in range(epochs):\n",
    "    avg_cost = 0\n",
    "    for i in range(total_batch):\n",
    "        batch_x, batch_y = mnist.train.next_batch(batch_size=batch_size)\n",
    "\n",
    "        if i % 5 == 0:\n",
    "            [train_accuracy, s] = sess.run([accuracy, merged_summary], feed_dict={x: batch_x, y: batch_y})\n",
    "            writer.add_summary(s, epoch*total_batch + i)\n",
    "            # print(\"Epoc:\", (epoch + 1), \"Step:\", (i), \"training accuracy %g\" % train_accuracy)\n",
    "\n",
    "        [_, c] = sess.run([optimiser, cross_entropy], feed_dict={x: batch_x, y: batch_y})\n",
    "        avg_cost += c / total_batch\n",
    "\n",
    "    print(\"Epoch:\", (epoch + 1), \"cost =\", \"{:.3f}\".format(avg_cost))\n",
    "\n",
    "print(sess.run(accuracy, feed_dict={x: mnist.test.images, y: mnist.test.labels}))\n",
    "    "
   ]
  },
  {
   "cell_type": "code",
   "execution_count": null,
   "metadata": {
    "collapsed": true
   },
   "outputs": [],
   "source": []
  }
 ],
 "metadata": {
  "kernelspec": {
   "display_name": "Python 3",
   "language": "python",
   "name": "python3"
  },
  "language_info": {
   "codemirror_mode": {
    "name": "ipython",
    "version": 3
   },
   "file_extension": ".py",
   "mimetype": "text/x-python",
   "name": "python",
   "nbconvert_exporter": "python",
   "pygments_lexer": "ipython3",
   "version": "3.5.2"
  }
 },
 "nbformat": 4,
 "nbformat_minor": 1
}
