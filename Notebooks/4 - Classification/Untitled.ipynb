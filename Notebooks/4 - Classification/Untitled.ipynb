{
 "cells": [
  {
   "cell_type": "code",
   "execution_count": 1,
   "metadata": {
    "collapsed": false
   },
   "outputs": [
    {
     "data": {
      "text/html": [
       "<div>\n",
       "<table border=\"1\" class=\"dataframe\">\n",
       "  <thead>\n",
       "    <tr style=\"text-align: right;\">\n",
       "      <th></th>\n",
       "      <th>sepal length (cm)</th>\n",
       "      <th>sepal width (cm)</th>\n",
       "      <th>petal length (cm)</th>\n",
       "      <th>petal width (cm)</th>\n",
       "      <th>is_train</th>\n",
       "      <th>species</th>\n",
       "      <th>species_codes</th>\n",
       "    </tr>\n",
       "  </thead>\n",
       "  <tbody>\n",
       "    <tr>\n",
       "      <th>0</th>\n",
       "      <td>5.1</td>\n",
       "      <td>3.5</td>\n",
       "      <td>1.4</td>\n",
       "      <td>0.2</td>\n",
       "      <td>True</td>\n",
       "      <td>setosa</td>\n",
       "      <td>0</td>\n",
       "    </tr>\n",
       "    <tr>\n",
       "      <th>1</th>\n",
       "      <td>4.9</td>\n",
       "      <td>3.0</td>\n",
       "      <td>1.4</td>\n",
       "      <td>0.2</td>\n",
       "      <td>True</td>\n",
       "      <td>setosa</td>\n",
       "      <td>0</td>\n",
       "    </tr>\n",
       "    <tr>\n",
       "      <th>2</th>\n",
       "      <td>4.7</td>\n",
       "      <td>3.2</td>\n",
       "      <td>1.3</td>\n",
       "      <td>0.2</td>\n",
       "      <td>True</td>\n",
       "      <td>setosa</td>\n",
       "      <td>0</td>\n",
       "    </tr>\n",
       "    <tr>\n",
       "      <th>3</th>\n",
       "      <td>4.6</td>\n",
       "      <td>3.1</td>\n",
       "      <td>1.5</td>\n",
       "      <td>0.2</td>\n",
       "      <td>False</td>\n",
       "      <td>setosa</td>\n",
       "      <td>0</td>\n",
       "    </tr>\n",
       "    <tr>\n",
       "      <th>4</th>\n",
       "      <td>5.0</td>\n",
       "      <td>3.6</td>\n",
       "      <td>1.4</td>\n",
       "      <td>0.2</td>\n",
       "      <td>True</td>\n",
       "      <td>setosa</td>\n",
       "      <td>0</td>\n",
       "    </tr>\n",
       "  </tbody>\n",
       "</table>\n",
       "</div>"
      ],
      "text/plain": [
       "   sepal length (cm)  sepal width (cm)  petal length (cm)  petal width (cm)  \\\n",
       "0                5.1               3.5                1.4               0.2   \n",
       "1                4.9               3.0                1.4               0.2   \n",
       "2                4.7               3.2                1.3               0.2   \n",
       "3                4.6               3.1                1.5               0.2   \n",
       "4                5.0               3.6                1.4               0.2   \n",
       "\n",
       "  is_train species  species_codes  \n",
       "0     True  setosa              0  \n",
       "1     True  setosa              0  \n",
       "2     True  setosa              0  \n",
       "3    False  setosa              0  \n",
       "4     True  setosa              0  "
      ]
     },
     "execution_count": 1,
     "metadata": {},
     "output_type": "execute_result"
    }
   ],
   "source": [
    "from sklearn import svm\n",
    "from sklearn.datasets import load_iris\n",
    "import numpy as np\n",
    "import pandas as pd\n",
    "import matplotlib.pyplot as plt\n",
    "from matplotlib import style\n",
    "\n",
    "def plot_hyperplane(linear_svm):\n",
    "    w = linear_svm.coef_[0]\n",
    "    a = -w[0] / w[1]\n",
    "    xx = np.linspace(4, 7)\n",
    "    yy = a * xx - (linear_svm.intercept_[0]) / w[1]\n",
    "\n",
    "    margin = 1 / np.sqrt(np.sum(linear_svm.coef_ ** 2))\n",
    "    yy_down = yy - np.sqrt(1 + a ** 2) * margin\n",
    "    yy_up = yy + np.sqrt(1 + a ** 2) * margin\n",
    "\n",
    "    plt.plot(xx, yy, 'k-')\n",
    "    plt.plot(xx, yy_down, 'k--')\n",
    "    plt.plot(xx, yy_up, 'k--')\n",
    "    \n",
    "def make_meshgrid(x, y, h=.02):\n",
    "    x_min, x_max = x.min() - 1, x.max() + 1\n",
    "    y_min, y_max = y.min() - 1, y.max() + 1\n",
    "    xx, yy = np.meshgrid(np.arange(x_min, x_max, h),\n",
    "                         np.arange(y_min, y_max, h))\n",
    "    return xx, yy\n",
    "\n",
    "\n",
    "def plot_contours(clf, xx, yy, **params):\n",
    "    Z = clf.predict(np.c_[xx.ravel(), yy.ravel()])\n",
    "    Z = Z.reshape(xx.shape)\n",
    "    plt.contourf(xx, yy, Z, **params)\n",
    "    \n",
    "\n",
    "style.use('ggplot')\n",
    "\n",
    "# import source data\n",
    "iris = load_iris()\n",
    "\n",
    "# setup source dataframe\n",
    "df = pd.DataFrame(iris.data, columns=iris.feature_names)\n",
    "df['is_train'] = np.random.uniform(0, 1, len(df)) <= 0.75\n",
    "df['species'] = pd.Categorical.from_codes(iris.target, iris.target_names)\n",
    "df['species_codes'] = df['species'].cat.codes\n",
    "\n",
    "df.head()"
   ]
  },
  {
   "cell_type": "code",
   "execution_count": 3,
   "metadata": {
    "collapsed": false
   },
   "outputs": [
    {
     "name": "stdout",
     "output_type": "stream",
     "text": [
      "[[ 2.22254788 -2.22228556]]\n",
      "[-5.00158151]\n",
      "1.0\n"
     ]
    }
   ],
   "source": [
    "# create training set\n",
    "X_tr = df[df['is_train'] == True]\n",
    "X_tr = pd.concat([X_tr[X_tr['species_codes'] == 0], X_tr[X_tr['species_codes'] == 1]])\n",
    "y_tr = X_tr['species_codes']\n",
    "\n",
    "# create testing set\n",
    "X_tst = df[df['is_train'] == False]\n",
    "X_tst = pd.concat([X_tst[X_tst['species_codes'] == 0], X_tst[X_tst['species_codes'] == 1]])\n",
    "y_tst = X_tst['species_codes']\n",
    "\n",
    "linear_svm = svm.SVC(kernel='linear')\n",
    "\n",
    "linear_svm.fit(X_tr[['sepal length (cm)', 'sepal width (cm)']].values, y_tr.values)\n",
    "\n",
    "print(linear_svm.coef_)\n",
    "\n",
    "print(linear_svm.intercept_)\n",
    "\n",
    "print(linear_svm.score(X_tr[['sepal length (cm)', 'sepal width (cm)']].values, y_tr.values))"
   ]
  },
  {
   "cell_type": "code",
   "execution_count": 4,
   "metadata": {
    "collapsed": false
   },
   "outputs": [
    {
     "data": {
      "image/png": "[encoded data removed]",
      "text/plain": [
       "<matplotlib.figure.Figure at 0x10bac2710>"
      ]
     },
     "metadata": {},
     "output_type": "display_data"
    }
   ],
   "source": [
    "plt.scatter(X_tst[X_tst['species_codes'] == 0]['sepal length (cm)'], X_tst[X_tst['species_codes'] == 0]['sepal width (cm)'],\n",
    "            marker='o', c='green', s=64)\n",
    "plt.scatter(X_tst[X_tst['species_codes'] == 1]['sepal length (cm)'], X_tst[X_tst['species_codes'] == 1]['sepal width (cm)'],\n",
    "            marker='s', c='green', s=64)\n",
    "\n",
    "plt.scatter(X_tr[X_tr['species_codes'] == 0]['sepal length (cm)'], X_tr[X_tr['species_codes'] == 0]['sepal width (cm)'],\n",
    "            marker='o', c='blue', s=64)\n",
    "plt.scatter(X_tr[X_tr['species_codes'] == 1]['sepal length (cm)'], X_tr[X_tr['species_codes'] == 1]['sepal width (cm)'],\n",
    "            marker='s', c='blue', s=64)\n",
    "\n",
    "plot_hyperplane(linear_svm)\n",
    "\n",
    "plt.show()"
   ]
  },
  {
   "cell_type": "code",
   "execution_count": 11,
   "metadata": {
    "collapsed": false
   },
   "outputs": [
    {
     "name": "stderr",
     "output_type": "stream",
     "text": [
      "/usr/local/lib/python3.5/site-packages/pandas/core/indexing.py:132: SettingWithCopyWarning: \n",
      "A value is trying to be set on a copy of a slice from a DataFrame\n",
      "\n",
      "See the caveats in the documentation: http://pandas.pydata.org/pandas-docs/stable/indexing.html#indexing-view-versus-copy\n",
      "  self._setitem_with_indexer(indexer, value)\n"
     ]
    },
    {
     "data": {
      "image/png": "[encoded data removed]",
      "text/plain": [
       "<matplotlib.figure.Figure at 0x110643ba8>"
      ]
     },
     "metadata": {},
     "output_type": "display_data"
    }
   ],
   "source": [
    "y_tr.iloc[0] = 1\n",
    "y_tr.iloc[len(y_tr)-1] = 0\n",
    "\n",
    "linear_svm_slack = svm.SVC(kernel='linear', C=0.02)\n",
    "\n",
    "linear_svm_slack.fit(X_tr[['sepal length (cm)', 'sepal width (cm)']].values, y_tr.values)\n",
    "\n",
    "plt.scatter(X_tr[X_tr['species_codes'] == 0]['sepal length (cm)'], X_tr[X_tr['species_codes'] == 0]['sepal width (cm)'],\n",
    "            marker='o', c='blue', s=64)\n",
    "plt.scatter(X_tr[X_tr['species_codes'] == 1]['sepal length (cm)'], X_tr[X_tr['species_codes'] == 1]['sepal width (cm)'],\n",
    "            marker='s', c='green', s=64)\n",
    "\n",
    "plot_hyperplane(linear_svm_slack)\n",
    "\n",
    "plt.show()"
   ]
  },
  {
   "cell_type": "code",
   "execution_count": 12,
   "metadata": {
    "collapsed": false
   },
   "outputs": [
    {
     "name": "stdout",
     "output_type": "stream",
     "text": [
      "0.684210526316\n"
     ]
    }
   ],
   "source": [
    "print(linear_svm_slack.score(X_tr[['sepal length (cm)', 'sepal width (cm)']].values, y_tr))"
   ]
  },
  {
   "cell_type": "code",
   "execution_count": 13,
   "metadata": {
    "collapsed": false
   },
   "outputs": [
    {
     "name": "stderr",
     "output_type": "stream",
     "text": [
      "/usr/local/lib/python3.5/site-packages/pandas/core/indexing.py:132: SettingWithCopyWarning: \n",
      "A value is trying to be set on a copy of a slice from a DataFrame\n",
      "\n",
      "See the caveats in the documentation: http://pandas.pydata.org/pandas-docs/stable/indexing.html#indexing-view-versus-copy\n",
      "  self._setitem_with_indexer(indexer, value)\n"
     ]
    }
   ],
   "source": [
    "y_tr.iloc[0] = 0\n",
    "y_tr.iloc[len(y_tr)-1] = 1"
   ]
  },
  {
   "cell_type": "code",
   "execution_count": 14,
   "metadata": {
    "collapsed": false
   },
   "outputs": [
    {
     "data": {
      "text/plain": [
       "SVC(C=1.0, cache_size=200, class_weight=None, coef0=0.0,\n",
       "  decision_function_shape=None, degree=3, gamma=0.7, kernel='rbf',\n",
       "  max_iter=-1, probability=False, random_state=None, shrinking=True,\n",
       "  tol=0.001, verbose=False)"
      ]
     },
     "execution_count": 14,
     "metadata": {},
     "output_type": "execute_result"
    }
   ],
   "source": [
    "# create nonlinear svm\n",
    "nonlinear_svm = svm.SVC(kernel='rbf', gamma=0.7, C=1.0)\n",
    "\n",
    "# fit the data\n",
    "nonlinear_svm.fit(X_tr[['sepal length (cm)', 'sepal width (cm)']].values, y_tr)"
   ]
  },
  {
   "cell_type": "code",
   "execution_count": 15,
   "metadata": {
    "collapsed": false
   },
   "outputs": [
    {
     "name": "stderr",
     "output_type": "stream",
     "text": [
      "/usr/local/lib/python3.5/site-packages/numpy/ma/core.py:6385: MaskedArrayFutureWarning: In the future the default for ma.minimum.reduce will be axis=0, not the current None, to match np.minimum.reduce. Explicitly pass 0 or None to silence this warning.\n",
      "  return self.reduce(a)\n",
      "/usr/local/lib/python3.5/site-packages/numpy/ma/core.py:6385: MaskedArrayFutureWarning: In the future the default for ma.maximum.reduce will be axis=0, not the current None, to match np.maximum.reduce. Explicitly pass 0 or None to silence this warning.\n",
      "  return self.reduce(a)\n"
     ]
    },
    {
     "data": {
      "image/png": "[encoded data removed]",
      "text/plain": [
       "<matplotlib.figure.Figure at 0x10e97b208>"
      ]
     },
     "metadata": {},
     "output_type": "display_data"
    }
   ],
   "source": [
    "# create meshgrid for plotting decision boundaries\n",
    "X0, X1 = X_tr['sepal length (cm)'], X_tr['sepal width (cm)']\n",
    "xx, yy = make_meshgrid(X0, X1)\n",
    "\n",
    "plot_contours(nonlinear_svm, xx, yy, cmap=plt.cm.coolwarm, alpha=0.2)\n",
    "\n",
    "plt.scatter(X_tr[X_tr['species_codes'] == 0]['sepal length (cm)'], X_tr[X_tr['species_codes'] == 0]['sepal width (cm)'],\n",
    "            marker='o', c='blue', s=64)\n",
    "plt.scatter(X_tr[X_tr['species_codes'] == 1]['sepal length (cm)'], X_tr[X_tr['species_codes'] == 1]['sepal width (cm)'],\n",
    "            marker='s', c='green', s=64)\n",
    "\n",
    "plt.show()"
   ]
  },
  {
   "cell_type": "code",
   "execution_count": null,
   "metadata": {
    "collapsed": true
   },
   "outputs": [],
   "source": []
  }
 ],
 "metadata": {
  "kernelspec": {
   "display_name": "Python 3",
   "language": "python",
   "name": "python3"
  },
  "language_info": {
   "codemirror_mode": {
    "name": "ipython",
    "version": 3
   },
   "file_extension": ".py",
   "mimetype": "text/x-python",
   "name": "python",
   "nbconvert_exporter": "python",
   "pygments_lexer": "ipython3",
   "version": "3.5.2"
  }
 },
 "nbformat": 4,
 "nbformat_minor": 1
}
