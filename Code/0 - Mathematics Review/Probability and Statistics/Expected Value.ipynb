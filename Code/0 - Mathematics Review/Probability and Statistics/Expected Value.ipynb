{
 "cells": [
  {
   "cell_type": "code",
   "execution_count": 31,
   "metadata": {
    "collapsed": false
   },
   "outputs": [
    {
     "data": {
      "text/plain": [
       "array([[1, 1, 1, 0],\n",
       "       [0, 0, 0, 0],\n",
       "       [1, 0, 1, 0],\n",
       "       ..., \n",
       "       [1, 0, 0, 1],\n",
       "       [0, 0, 0, 1],\n",
       "       [1, 1, 0, 1]])"
      ]
     },
     "execution_count": 31,
     "metadata": {},
     "output_type": "execute_result"
    }
   ],
   "source": [
    "import numpy as np\n",
    "import pandas as pd\n",
    "\n",
    "def flip(flips, trials):\n",
    "    return np.random.randint(0, 2, size=(trials, flips))\n",
    "\n",
    "def compute_mean(data):\n",
    "    df = pd.DataFrame(data)\n",
    "    tails = df.sum(axis=1)\n",
    "    return tails.mean()\n",
    "    \n",
    "experiment_data = flip(4, 10000)\n",
    "\n",
    "experiment_data"
   ]
  },
  {
   "cell_type": "code",
   "execution_count": 32,
   "metadata": {
    "collapsed": false
   },
   "outputs": [
    {
     "data": {
      "text/plain": [
       "2.0186000000000002"
      ]
     },
     "execution_count": 32,
     "metadata": {},
     "output_type": "execute_result"
    }
   ],
   "source": [
    "mean = compute_mean(experiment_data)\n",
    "\n",
    "mean"
   ]
  },
  {
   "cell_type": "code",
   "execution_count": 33,
   "metadata": {
    "collapsed": false
   },
   "outputs": [
    {
     "data": {
      "text/plain": [
       "0.99575361536153617"
      ]
     },
     "execution_count": 33,
     "metadata": {},
     "output_type": "execute_result"
    }
   ],
   "source": [
    "def compute_variance(data):\n",
    "    df = pd.DataFrame(data)\n",
    "    tails = df.sum(axis=1)\n",
    "    return tails.var()\n",
    "\n",
    "variance = compute_variance(experiment_data)\n",
    "\n",
    "variance"
   ]
  },
  {
   "cell_type": "code",
   "execution_count": 34,
   "metadata": {
    "collapsed": false
   },
   "outputs": [
    {
     "name": "stdout",
     "output_type": "stream",
     "text": [
      "The expected value is: 2.018600\n",
      "The variance is: 0.995754\n"
     ]
    }
   ],
   "source": [
    "print(\"The expected value is: %f\" % mean)\n",
    "print(\"The variance is: %f\" % variance)"
   ]
  },
  {
   "cell_type": "code",
   "execution_count": null,
   "metadata": {
    "collapsed": true
   },
   "outputs": [],
   "source": []
  }
 ],
 "metadata": {
  "kernelspec": {
   "display_name": "Python 3",
   "language": "python",
   "name": "python3"
  },
  "language_info": {
   "codemirror_mode": {
    "name": "ipython",
    "version": 3
   },
   "file_extension": ".py",
   "mimetype": "text/x-python",
   "name": "python",
   "nbconvert_exporter": "python",
   "pygments_lexer": "ipython3",
   "version": "3.5.2"
  }
 },
 "nbformat": 4,
 "nbformat_minor": 1
}
