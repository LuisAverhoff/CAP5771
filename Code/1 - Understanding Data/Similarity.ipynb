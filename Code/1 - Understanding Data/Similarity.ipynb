{
 "cells": [
  {
   "cell_type": "code",
   "execution_count": 1,
   "metadata": {
    "collapsed": false
   },
   "outputs": [
    {
     "name": "stdout",
     "output_type": "stream",
     "text": [
      "Euclidean Distance: 2.82842712475\n"
     ]
    }
   ],
   "source": [
    "import numpy as np\n",
    "import math\n",
    "from scipy import stats\n",
    "\n",
    "# Euclidean Distance\n",
    "\n",
    "def euclidean_dist(x, y):\n",
    "    return np.linalg.norm(x - y)\n",
    "\n",
    "p1 = np.array([0, 2])\n",
    "p2 = np.array([2, 0])\n",
    "\n",
    "print(\"Euclidean Distance: \" + str(euclidean_dist(p1, p2)))\n"
   ]
  },
  {
   "cell_type": "code",
   "execution_count": 3,
   "metadata": {
    "collapsed": false
   },
   "outputs": [
    {
     "name": "stdout",
     "output_type": "stream",
     "text": [
      "Euclidean Distance: 2.0\n"
     ]
    }
   ],
   "source": [
    "p3 = np.array([3, 1])\n",
    "p4 = np.array([5, 1])\n",
    "\n",
    "print(\"Euclidean Distance: \" + str(euclidean_dist(p3, p4)))"
   ]
  },
  {
   "cell_type": "code",
   "execution_count": 4,
   "metadata": {
    "collapsed": false
   },
   "outputs": [
    {
     "name": "stdout",
     "output_type": "stream",
     "text": [
      "Hamming Distance: 4.0\n",
      "Euclidean Distance: 2.82842712475\n",
      "Supremum Distance: 2.0\n"
     ]
    }
   ],
   "source": [
    "# Minkowski\n",
    "\n",
    "def minkowski_dist(x, y, p):\n",
    "    return np.linalg.norm(x - y, p)\n",
    "\n",
    "print(\"Hamming Distance: \" + str(minkowski_dist(p1, p2, 1)))\n",
    "print(\"Euclidean Distance: \" + str(minkowski_dist(p1, p2, 2)))\n",
    "print(\"Supremum Distance: \" + str(minkowski_dist(p1, p2, math.inf)))"
   ]
  },
  {
   "cell_type": "code",
   "execution_count": 5,
   "metadata": {
    "collapsed": true
   },
   "outputs": [],
   "source": [
    "x = [1,0,0,0,0,0,0,0,0,0]\n",
    "y = [0,0,0,0,0,0,1,0,0,1]"
   ]
  },
  {
   "cell_type": "code",
   "execution_count": 6,
   "metadata": {
    "collapsed": false
   },
   "outputs": [
    {
     "name": "stdout",
     "output_type": "stream",
     "text": [
      "SMC similarity: 0.7\n"
     ]
    }
   ],
   "source": [
    "# Simple Matching Coefficient\n",
    "\n",
    "def smc(x, y):\n",
    "    if len(x) != len(y):\n",
    "        print(\"Vectors must be of the same lenght!\")\n",
    "        return None\n",
    "    \n",
    "    f01 = 0\n",
    "    f10 = 0\n",
    "    f00 = 0\n",
    "    f11 = 0\n",
    "    \n",
    "    for x0, y0 in zip(x, y):\n",
    "        if x0 == 1:\n",
    "            if x0 == y0:\n",
    "                f11 += 1\n",
    "            else:\n",
    "                f10 += 1\n",
    "        else:\n",
    "            if x0 == y0:\n",
    "                f00 += 1\n",
    "            else:\n",
    "                f01 += 1\n",
    "                    \n",
    "    return (f11 + f00) / (f01 + f10 + f11 + f00)\n",
    "\n",
    "print(\"SMC similarity: \" + str(smc(x, y)))\n",
    "    \n",
    "    "
   ]
  },
  {
   "cell_type": "code",
   "execution_count": 7,
   "metadata": {
    "collapsed": false
   },
   "outputs": [
    {
     "name": "stdout",
     "output_type": "stream",
     "text": [
      "Jaccard similarity: 0.0\n"
     ]
    }
   ],
   "source": [
    "def jaccard(x, y):\n",
    "    if len(x) != len(y):\n",
    "        print(\"Vectors must be of the same lenght!\")\n",
    "        return None\n",
    "    \n",
    "    f01 = 0\n",
    "    f10 = 0\n",
    "    f11 = 0\n",
    "    \n",
    "    for x0, y0 in zip(x, y):\n",
    "        if x0 == 1:\n",
    "            if x0 == y0:\n",
    "                f11 += 1\n",
    "            else:\n",
    "                f10 += 1\n",
    "        else:\n",
    "            if x0 != y0:\n",
    "                f01 += 1\n",
    "                    \n",
    "    return (f11) / (f01 + f10 + f11)\n",
    "\n",
    "print(\"Jaccard similarity: \" + str(jaccard(x, y)))"
   ]
  },
  {
   "cell_type": "code",
   "execution_count": 11,
   "metadata": {
    "collapsed": false
   },
   "outputs": [
    {
     "name": "stdout",
     "output_type": "stream",
     "text": [
      "Cosine similarity: 0.314970394174\n"
     ]
    }
   ],
   "source": [
    "x = [3, 2, 0, 5, 0, 0, 0, 2, 0, 0]\n",
    "y = [1, 0, 0, 0, 0, 0, 0, 1, 0, 2]\n",
    "\n",
    "def cos_sim(x, y):\n",
    "    x = np.array(x)\n",
    "    y = np.array(y)\n",
    "    \n",
    "    return np.dot(x, y)/(np.linalg.norm(x) * np.linalg.norm(y))\n",
    "\n",
    "print(\"Cosine similarity: \" + str(cos_sim(x, y)))\n",
    "\n"
   ]
  },
  {
   "cell_type": "code",
   "execution_count": 12,
   "metadata": {
    "collapsed": false
   },
   "outputs": [
    {
     "name": "stdout",
     "output_type": "stream",
     "text": [
      "Correlation coefficient: -1.0\n"
     ]
    }
   ],
   "source": [
    "# Correlation\n",
    "\n",
    "x = [-3, 6, 0, 3, -6]\n",
    "y = [1, -2, 0, -1, 2]\n",
    "\n",
    "print(\"Correlation coefficient: \" + str(stats.pearsonr(x, y)[0]))"
   ]
  },
  {
   "cell_type": "code",
   "execution_count": 15,
   "metadata": {
    "collapsed": false
   },
   "outputs": [
    {
     "name": "stdout",
     "output_type": "stream",
     "text": [
      "Correlation coefficient: 1.0\n"
     ]
    }
   ],
   "source": [
    "x = [3, 6, 0, 3, 6]\n",
    "y = [1, 2, 0, 1, 2]\n",
    "\n",
    "print(\"Correlation coefficient: \" + str(stats.pearsonr(x, y)[0]))"
   ]
  }
 ],
 "metadata": {
  "kernelspec": {
   "display_name": "Python 3",
   "language": "python",
   "name": "python3"
  },
  "language_info": {
   "codemirror_mode": {
    "name": "ipython",
    "version": 3
   },
   "file_extension": ".py",
   "mimetype": "text/x-python",
   "name": "python",
   "nbconvert_exporter": "python",
   "pygments_lexer": "ipython3",
   "version": "3.5.2"
  }
 },
 "nbformat": 4,
 "nbformat_minor": 1
}
