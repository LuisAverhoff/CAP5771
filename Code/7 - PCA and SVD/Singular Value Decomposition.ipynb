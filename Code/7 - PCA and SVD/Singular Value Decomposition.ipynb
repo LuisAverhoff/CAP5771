{
 "cells": [
  {
   "cell_type": "code",
   "execution_count": 3,
   "metadata": {
    "collapsed": false,
    "scrolled": true
   },
   "outputs": [],
   "source": [
    "from sklearn.feature_extraction.text import TfidfVectorizer\n",
    "from sklearn.decomposition import TruncatedSVD\n",
    "from sklearn.pipeline import Pipeline\n",
    "from sklearn.metrics import pairwise_distances\n",
    "from sklearn.datasets import fetch_20newsgroups\n",
    "import numpy as np\n",
    "\n",
    "# define newsgroup categories\n",
    "categories = [\n",
    "    'sci.space'\n",
    "]\n",
    "\n",
    "dataset = fetch_20newsgroups(subset='all', categories=categories, shuffle=True, random_state=24)\n",
    "\n",
    "# take the first 100 records in the data set to reduce computation time\n",
    "document_corpus = dataset.data[:100]"
   ]
  },
  {
   "cell_type": "code",
   "execution_count": 4,
   "metadata": {
    "collapsed": false
   },
   "outputs": [
    {
     "name": "stdout",
     "output_type": "stream",
     "text": [
      "100 documents\n",
      "1 categories\n",
      "\n"
     ]
    },
    {
     "data": {
      "text/plain": [
       "'From: wallacen@CS.ColoState.EDU (nathan wallace)\\nSubject:  Level 5\\nReply-To: wallacen@CS.ColoState.EDU\\nNntp-Posting-Host: sor.cs.colostate.edu\\nOrganization: Colorado State University -=- Computer Scie'"
      ]
     },
     "execution_count": 4,
     "metadata": {},
     "output_type": "execute_result"
    }
   ],
   "source": [
    "print(\"%d documents\" % len(dataset.data[:100]))\n",
    "\n",
    "print(\"%d categories\" % len(dataset.target_names))\n",
    "\n",
    "print()\n",
    "\n",
    "# display the first 200 characters of the first document\n",
    "document_corpus[0][:200]"
   ]
  },
  {
   "cell_type": "code",
   "execution_count": 5,
   "metadata": {
    "collapsed": false
   },
   "outputs": [
    {
     "name": "stdout",
     "output_type": "stream",
     "text": [
      "(100, 50)\n"
     ]
    }
   ],
   "source": [
    "vectorizer = TfidfVectorizer(stop_words='english', use_idf=True, smooth_idf=True)\\\n",
    "\n",
    "svd_model = TruncatedSVD(n_components=50, algorithm='randomized', n_iter=10, random_state=42)\n",
    "\n",
    "svd_transformer = Pipeline([('tfidf', vectorizer), ('svd', svd_model)])\n",
    "\n",
    "svd_matrix = svd_transformer.fit_transform(document_corpus)\n",
    "\n",
    "print(svd_matrix.shape)"
   ]
  },
  {
   "cell_type": "code",
   "execution_count": 19,
   "metadata": {
    "collapsed": false
   },
   "outputs": [
    {
     "name": "stdout",
     "output_type": "stream",
     "text": [
      "0.303722598788\n",
      "best match index: 16 \n",
      "\n",
      "-- document at index 16 --\n",
      "From: mwm+@cs.cmu.edu (Mark Maimone)\n",
      "Subject: How to read sci.space without netnews\n",
      "Summary: Space Digest address\n",
      "Nntp-Posting-Host: a.gp.cs.cmu.edu\n",
      "Organization: School of Computer Science, Carnegie Mellon\n",
      "Lines: 36\n",
      "\n",
      "In article <734975852.F00001@permanet.org> Mark.Prado@p2.f349.n109.z1.permanet.org (Mark Prado) writes:\n",
      ">If anyone knows anyone else who would like to get sci.space,\n",
      ">but doesn't have an Internet feed (or has a cryptic Internet\n",
      ">feed), I would be willing to feed it to them.\t\n",
      "\n",
      "\tKudos to Mark for his generous offer, but there already exists a\n",
      "large (email-based) forwarding system for sci.space posts:  Space Digest.\n",
      "It mirrors sci.space exactly, and provides simple two-way communication.\n",
      "\n",
      "\tTO SUBSCRIBE:\n",
      "\t   Send the following message in the *body* (not subject) of an\n",
      "\t   email message:\n",
      "\n",
      "\t\tsubscribe space John Q Public\n",
      "\n",
      "\t   to one of these addresses:\n",
      "\n",
      "\t\tlistserv@uga\n",
      "\t\tlistserv@uga.cc.uga.edu\n",
      "\t\tlistserv@finhutc\n",
      "\t\tlistserv@finhuc.hut.fi\n",
      "\t\tspace-request@isu.isunet.edu\n",
      "\n",
      "\t   You'll receive all the posts in \"digest\" form once a day.  Please\n",
      "\t   use a listserv if you can, the \"space-request\" address is handled\n",
      "\t   manually.\n",
      "\n",
      "\tTO POST MESSAGES:\n",
      "\t   Send your message (with a reasonable Subject line) to:\n",
      "\n",
      "\t\tspace@isu.isunet.edu\n",
      "\n",
      "Questions, comments to space-request@isu.isunet.edu\n",
      "-- \n",
      "Mark Maimone\t\t\t\tphone: +1 (412) 268 - 7698\n",
      "Carnegie Mellon Computer Science\temail: mwm@cmu.edu\n",
      "\n"
     ]
    }
   ],
   "source": [
    "query = [\"space\"]\n",
    "\n",
    "query_vector = svd_transformer.transform(query)\n",
    "\n",
    "distance_matrix = pairwise_distances(query_vector, svd_matrix, metric='cosine', n_jobs=-1)\n",
    "\n",
    "print(min(distance_matrix[0, :]))\n",
    "\n",
    "if min(distance_matrix[0, :]) == 1.0:\n",
    "    print(\"Query string not found.\")\n",
    "else:\n",
    "\n",
    "    best_match_index = np.where(distance_matrix[0, :] == min(distance_matrix[0, :]))\n",
    "\n",
    "    print(\"best match index: %d \" % best_match_index[0][0])\n",
    "\n",
    "    print()\n",
    "\n",
    "    print(\"-- document at index %d --\" % best_match_index[0][0])\n",
    "\n",
    "    print(document_corpus[best_match_index[0][0]])"
   ]
  },
  {
   "cell_type": "code",
   "execution_count": null,
   "metadata": {
    "collapsed": true
   },
   "outputs": [],
   "source": []
  }
 ],
 "metadata": {
  "kernelspec": {
   "display_name": "Python 3",
   "language": "python",
   "name": "python3"
  },
  "language_info": {
   "codemirror_mode": {
    "name": "ipython",
    "version": 3
   },
   "file_extension": ".py",
   "mimetype": "text/x-python",
   "name": "python",
   "nbconvert_exporter": "python",
   "pygments_lexer": "ipython3",
   "version": "3.5.2"
  }
 },
 "nbformat": 4,
 "nbformat_minor": 1
}
